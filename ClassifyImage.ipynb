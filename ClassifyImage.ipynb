{
 "cells": [
  {
   "cell_type": "code",
   "execution_count": 39,
   "metadata": {
    "collapsed": false,
    "scrolled": true
   },
   "outputs": [],
   "source": [
    "require 'nn'\n",
    "require 'cunn'\n",
    "-- require 'cudnn'\n",
    "nnpack = require 'nnpack'\n",
    "\n",
    "image = require 'image'\n",
    "t = require 'datasets/transforms_beauty'"
   ]
  },
  {
   "cell_type": "code",
   "execution_count": 17,
   "metadata": {
    "collapsed": false
   },
   "outputs": [],
   "source": [
    "-- The model was trained with this input normalization\n",
    "meanstd = {\n",
    "   mean = { 0.485, 0.456, 0.406 },\n",
    "   std = { 0.229, 0.224, 0.225 },\n",
    "}\n",
    "\n",
    "transform = t.Compose{\n",
    "   t.Scale(256),\n",
    "   t.ColorNormalize(meanstd),\n",
    "   t.CenterCrop(224),\n",
    "}\n"
   ]
  },
  {
   "cell_type": "code",
   "execution_count": 58,
   "metadata": {
    "collapsed": false
   },
   "outputs": [],
   "source": [
    "model = torch.load('/media/eightbit/data_hdd/Projects/BeautyOrNot/ModelComparison/models/model18/model_best_cpu.t7')\n",
    "model:evaluate()\n",
    "bla = nnpack.convert(model, nnpack)\n",
    "\n",
    "-- model:cuda()\n",
    "\n",
    "-- softmax = nn.SoftMax()\n",
    "-- model:add(softmax)"
   ]
  },
  {
   "cell_type": "code",
   "execution_count": 60,
   "metadata": {
    "collapsed": false
   },
   "outputs": [
    {
     "ename": "/home/eightbit/torch/install/share/lua/5.1/nn/Container.lua:67: \nIn 1 module of nn.Sequential:\n...orch/install/share/lua/5.1/nnpack/SpatialConvolution.lua:50: attempt to index field 'bias' (a nil value)\nstack traceback:\n\t...orch/install/share/lua/5.1/nnpack/SpatialConvolution.lua:50: in function <...orch/install/share/lua/5.1/nnpack/SpatialConvolution.lua:20>\n\t[C]: in function 'xpcall'\n\t/home/eightbit/torch/install/share/lua/5.1/nn/Container.lua:63: in function 'rethrowErrors'\n\t...e/eightbit/torch/install/share/lua/5.1/nn/Sequential.lua:44: in function 'forward'\n\t[string \"img = image.load('/home/eightbit/Desktop/down...\"]:8: in main chunk\n\t[C]: in function 'xpcall'\n\t/home/eightbit/torch/install/share/lua/5.1/itorch/main.lua:210: in function </home/eightbit/torch/install/share/lua/5.1/itorch/main.lua:174>\n\t/home/eightbit/torch/install/share/lua/5.1/lzmq/poller.lua:75: in function 'poll'\n\t.../eightbit/torch/install/share/lua/5.1/lzmq/impl/loop.lua:307: in function 'poll'\n\t.../eightbit/torch/install/share/lua/5.1/lzmq/impl/loop.lua:325: in function 'sleep_ex'\n\t.../eightbit/torch/install/share/lua/5.1/lzmq/impl/loop.lua:370: in function 'start'\n\t/home/eightbit/torch/install/share/lua/5.1/itorch/main.lua:389: in main chunk\n\t[C]: in function 'require'\n\t(command line):1: in main chunk\n\t[C]: at 0x00406670\n\nWARNING: If you see a stack trace below, it doesn't point to the place where this error occurred. Please use only the one above.\nstack traceback:\n\t[C]: in function 'error'\n\t/home/eightbit/torch/install/share/lua/5.1/nn/Container.lua:67: in function 'rethrowErrors'\n\t...e/eightbit/torch/install/share/lua/5.1/nn/Sequential.lua:44: in function 'forward'\n\t[string \"img = image.load('/home/eightbit/Desktop/down...\"]:8: in main chunk\n\t[C]: in function 'xpcall'\n\t/home/eightbit/torch/install/share/lua/5.1/itorch/main.lua:210: in function </home/eightbit/torch/install/share/lua/5.1/itorch/main.lua:174>\n\t/home/eightbit/torch/install/share/lua/5.1/lzmq/poller.lua:75: in function 'poll'\n\t.../eightbit/torch/install/share/lua/5.1/lzmq/impl/loop.lua:307: in function 'poll'\n\t.../eightbit/torch/install/share/lua/5.1/lzmq/impl/loop.lua:325: in function 'sleep_ex'\n\t.../eightbit/torch/install/share/lua/5.1/lzmq/impl/loop.lua:370: in function 'start'\n\t/home/eightbit/torch/install/share/lua/5.1/itorch/main.lua:389: in main chunk\n\t[C]: in function 'require'\n\t(command line):1: in main chunk\n\t[C]: at 0x00406670",
     "evalue": "",
     "output_type": "error",
     "traceback": [
      "/home/eightbit/torch/install/share/lua/5.1/nn/Container.lua:67: \nIn 1 module of nn.Sequential:\n...orch/install/share/lua/5.1/nnpack/SpatialConvolution.lua:50: attempt to index field 'bias' (a nil value)\nstack traceback:\n\t...orch/install/share/lua/5.1/nnpack/SpatialConvolution.lua:50: in function <...orch/install/share/lua/5.1/nnpack/SpatialConvolution.lua:20>\n\t[C]: in function 'xpcall'\n\t/home/eightbit/torch/install/share/lua/5.1/nn/Container.lua:63: in function 'rethrowErrors'\n\t...e/eightbit/torch/install/share/lua/5.1/nn/Sequential.lua:44: in function 'forward'\n\t[string \"img = image.load('/home/eightbit/Desktop/down...\"]:8: in main chunk\n\t[C]: in function 'xpcall'\n\t/home/eightbit/torch/install/share/lua/5.1/itorch/main.lua:210: in function </home/eightbit/torch/install/share/lua/5.1/itorch/main.lua:174>\n\t/home/eightbit/torch/install/share/lua/5.1/lzmq/poller.lua:75: in function 'poll'\n\t.../eightbit/torch/install/share/lua/5.1/lzmq/impl/loop.lua:307: in function 'poll'\n\t.../eightbit/torch/install/share/lua/5.1/lzmq/impl/loop.lua:325: in function 'sleep_ex'\n\t.../eightbit/torch/install/share/lua/5.1/lzmq/impl/loop.lua:370: in function 'start'\n\t/home/eightbit/torch/install/share/lua/5.1/itorch/main.lua:389: in main chunk\n\t[C]: in function 'require'\n\t(command line):1: in main chunk\n\t[C]: at 0x00406670\n\nWARNING: If you see a stack trace below, it doesn't point to the place where this error occurred. Please use only the one above.\nstack traceback:\n\t[C]: in function 'error'\n\t/home/eightbit/torch/install/share/lua/5.1/nn/Container.lua:67: in function 'rethrowErrors'\n\t...e/eightbit/torch/install/share/lua/5.1/nn/Sequential.lua:44: in function 'forward'\n\t[string \"img = image.load('/home/eightbit/Desktop/down...\"]:8: in main chunk\n\t[C]: in function 'xpcall'\n\t/home/eightbit/torch/install/share/lua/5.1/itorch/main.lua:210: in function </home/eightbit/torch/install/share/lua/5.1/itorch/main.lua:174>\n\t/home/eightbit/torch/install/share/lua/5.1/lzmq/poller.lua:75: in function 'poll'\n\t.../eightbit/torch/install/share/lua/5.1/lzmq/impl/loop.lua:307: in function 'poll'\n\t.../eightbit/torch/install/share/lua/5.1/lzmq/impl/loop.lua:325: in function 'sleep_ex'\n\t.../eightbit/torch/install/share/lua/5.1/lzmq/impl/loop.lua:370: in function 'start'\n\t/home/eightbit/torch/install/share/lua/5.1/itorch/main.lua:389: in main chunk\n\t[C]: in function 'require'\n\t(command line):1: in main chunk\n\t[C]: at 0x00406670"
     ]
    }
   ],
   "source": [
    "img = image.load('/home/eightbit/Desktop/download.jpg', 3, 'float')\n",
    "-- Scale, normalize, and crop the image\n",
    "img = transform(img)\n",
    "-- View as mini-batch of size 1\n",
    "batch = img:view(1, table.unpack(img:size():totable()))\n",
    "-- Get the output of the softmax\n",
    "-- time_start = os.clock()\n",
    "output = model:forward(batch)\n",
    "-- print(\"Elapsed time is: \" .. os.clock()-time_start)"
   ]
  },
  {
   "cell_type": "code",
   "execution_count": 7,
   "metadata": {
    "collapsed": false
   },
   "outputs": [],
   "source": [
    "avgPred = output * torch.range(1,10):float() - 1"
   ]
  },
  {
   "cell_type": "code",
   "execution_count": 8,
   "metadata": {
    "collapsed": false
   },
   "outputs": [
    {
     "data": {
      "text/plain": [
       " 3.4997\n",
       "[torch.FloatTensor of size 1]\n",
       "\n"
      ]
     },
     "execution_count": 8,
     "metadata": {},
     "output_type": "execute_result"
    }
   ],
   "source": [
    "avgPred"
   ]
  }
 ],
 "metadata": {
  "kernelspec": {
   "display_name": "iTorch",
   "language": "lua",
   "name": "itorch"
  },
  "language_info": {
   "name": "lua",
   "version": "5.1"
  }
 },
 "nbformat": 4,
 "nbformat_minor": 1
}
