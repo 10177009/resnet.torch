{
 "cells": [
  {
   "cell_type": "code",
   "execution_count": 9,
   "metadata": {
    "collapsed": false,
    "scrolled": true
   },
   "outputs": [],
   "source": [
    "require 'nn'\n",
    "require 'cunn'\n",
    "require 'cudnn'\n",
    "-- nnpack = require 'nnpack'\n",
    "image = require 'image'\n",
    "t = require 'datasets/transforms_beauty'"
   ]
  },
  {
   "cell_type": "code",
   "execution_count": 10,
   "metadata": {
    "collapsed": false
   },
   "outputs": [],
   "source": [
    "-- The model was trained with this input normalization\n",
    "meanstd = {\n",
    "   mean = { 0.485, 0.456, 0.406 },\n",
    "   std = { 0.229, 0.224, 0.225 },\n",
    "}\n",
    "\n",
    "transform = t.Compose{\n",
    "   t.Scale(256),\n",
    "   t.ColorNormalize(meanstd),\n",
    "   t.CenterCrop(224),\n",
    "}\n"
   ]
  },
  {
   "cell_type": "code",
   "execution_count": 13,
   "metadata": {
    "collapsed": false
   },
   "outputs": [],
   "source": [
    "model = torch.load('/media/eightbit/data_hdd/Libs/TorchLibs/resnet.torch/my_models/beauty/tinydarknet,LR=0.0001,LR_decay_step=75,batchSize=96,classWeighting=f,compute_mean_std=true,dataset=beautyBalanced,freeze=f,nClasses=1,nEpochs=225,optnet=t,resetClassifier=t,shareGradInput=f,tenCrop=f,testOnly=f/TueNov2901:42:422016/model_best.t7')\n",
    "model:cuda()\n",
    "model:evaluate()\n",
    "-- bla = nnpack.convert(model, nnpack)\n",
    "\n",
    "-- model:cuda()\n",
    "\n",
    "-- softmax = nn.SoftMax()\n",
    "-- model:add(softmax)"
   ]
  },
  {
   "cell_type": "code",
   "execution_count": 14,
   "metadata": {
    "collapsed": false
   },
   "outputs": [],
   "source": [
    "img = image.load('/home/eightbit/Desktop/download.jpg', 3, 'float')\n",
    "batch = img:view(1, table.unpack(img:size():totable()))\n",
    "output = model:forward(batch:cuda())"
   ]
  },
  {
   "cell_type": "code",
   "execution_count": 27,
   "metadata": {
    "collapsed": false
   },
   "outputs": [
    {
     "data": {
      "text/plain": [
       "   1\n",
       "   3\n",
       " 225\n",
       " 225\n",
       "[torch.LongStorage of size 4]\n",
       "\n"
      ]
     },
     "execution_count": 27,
     "metadata": {},
     "output_type": "execute_result"
    }
   ],
   "source": [
    "batch:size()"
   ]
  },
  {
   "cell_type": "code",
   "execution_count": 7,
   "metadata": {
    "collapsed": false
   },
   "outputs": [],
   "source": [
    "avgPred = output * torch.range(1,10):float() - 1"
   ]
  },
  {
   "cell_type": "code",
   "execution_count": 8,
   "metadata": {
    "collapsed": false
   },
   "outputs": [
    {
     "data": {
      "text/plain": [
       " 3.4997\n",
       "[torch.FloatTensor of size 1]\n",
       "\n"
      ]
     },
     "execution_count": 8,
     "metadata": {},
     "output_type": "execute_result"
    }
   ],
   "source": [
    "avgPred"
   ]
  }
 ],
 "metadata": {
  "kernelspec": {
   "display_name": "iTorch",
   "language": "lua",
   "name": "itorch"
  },
  "language_info": {
   "name": "lua",
   "version": "5.1"
  }
 },
 "nbformat": 4,
 "nbformat_minor": 1
}
