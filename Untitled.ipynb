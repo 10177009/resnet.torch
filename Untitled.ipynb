{
 "cells": [
  {
   "cell_type": "code",
   "execution_count": 32,
   "metadata": {
    "collapsed": false,
    "scrolled": true
   },
   "outputs": [],
   "source": [
    "require 'nn'\n",
    "require 'cunn'\n",
    "require 'cudnn'\n",
    "image = require 'image'\n",
    "t = require 'datasets/transforms_beauty'"
   ]
  },
  {
   "cell_type": "code",
   "execution_count": 14,
   "metadata": {
    "collapsed": false
   },
   "outputs": [],
   "source": [
    "-- The model was trained with this input normalization\n",
    "meanstd = {\n",
    "   mean = { 0.485, 0.456, 0.406 },\n",
    "   std = { 0.229, 0.224, 0.225 },\n",
    "}\n",
    "\n",
    "transform = t.Compose{\n",
    "   t.Scale(256),\n",
    "   t.ColorNormalize(meanstd),\n",
    "   t.CenterCrop(224),\n",
    "}\n"
   ]
  },
  {
   "cell_type": "code",
   "execution_count": 56,
   "metadata": {
    "collapsed": false
   },
   "outputs": [],
   "source": [
    "model = torch.load('/media/eightbit/data_hdd/Projects/BeautyOrNot/ModelComparison/models/model18/model_best.t7')\n",
    "model:evaluate()\n",
    "model:cuda()\n",
    "\n",
    "softmax = nn.SoftMax():cuda()\n",
    "model:add(softmax)"
   ]
  },
  {
   "cell_type": "code",
   "execution_count": 57,
   "metadata": {
    "collapsed": false
   },
   "outputs": [],
   "source": [
    "img = image.load('/home/eightbit/Desktop/download.jpg', 3, 'float')\n",
    "-- Scale, normalize, and crop the image\n",
    "img = transform(img)\n",
    "-- View as mini-batch of size 1\n",
    "batch = img:view(1, table.unpack(img:size():totable()))\n",
    "-- Get the output of the softmax\n",
    "output = model:forward(batch:cuda()):float()"
   ]
  },
  {
   "cell_type": "code",
   "execution_count": 65,
   "metadata": {
    "collapsed": false
   },
   "outputs": [],
   "source": [
    "avgPred = output * torch.range(1,10):float() - 1"
   ]
  },
  {
   "cell_type": "code",
   "execution_count": 67,
   "metadata": {
    "collapsed": false
   },
   "outputs": [
    {
     "data": {
      "text/plain": [
       " 3.4997\n",
       "[torch.FloatTensor of size 1]\n",
       "\n"
      ]
     },
     "execution_count": 67,
     "metadata": {},
     "output_type": "execute_result"
    }
   ],
   "source": [
    "avgPred"
   ]
  }
 ],
 "metadata": {
  "kernelspec": {
   "display_name": "iTorch",
   "language": "lua",
   "name": "itorch"
  },
  "language_info": {
   "name": "lua",
   "version": "5.1"
  }
 },
 "nbformat": 4,
 "nbformat_minor": 1
}
